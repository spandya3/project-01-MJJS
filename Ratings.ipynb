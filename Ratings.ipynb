{
 "cells": [
  {
   "cell_type": "code",
   "execution_count": 1,
   "id": "d9372b81-c871-4efe-a2d5-95ad20013c8a",
   "metadata": {},
   "outputs": [],
   "source": [
    "import matplotlib.pyplot as plt\n",
    "import pandas as pd\n",
    "import numpy as np\n",
    "\n",
    "movie_data = pd.read_csv(\"clean_movie_data.csv\")\n",
    "clean_data_df = pd.DataFrame(movie_data)"
   ]
  },
  {
   "cell_type": "code",
   "execution_count": 3,
   "id": "bc1981c9-2f57-4ee6-bdcb-e52c4432de8e",
   "metadata": {},
   "outputs": [
    {
     "data": {
      "text/plain": [
       "Index(['Poster', 'Title', 'Year', 'Certificate', 'Duration (min)', 'Genre',\n",
       "       'Rating', 'Metascore', 'Director', 'Cast', 'Votes', 'Description',\n",
       "       'Review Count', 'Review Title', 'Review'],\n",
       "      dtype='object')"
      ]
     },
     "execution_count": 3,
     "metadata": {},
     "output_type": "execute_result"
    }
   ],
   "source": [
    "clean_data_df.columns"
   ]
  },
  {
   "cell_type": "code",
   "execution_count": 5,
   "id": "c853d764-c9a8-4a2d-931b-433625dd6faa",
   "metadata": {},
   "outputs": [
    {
     "data": {
      "text/html": [
       "<div>\n",
       "<style scoped>\n",
       "    .dataframe tbody tr th:only-of-type {\n",
       "        vertical-align: middle;\n",
       "    }\n",
       "\n",
       "    .dataframe tbody tr th {\n",
       "        vertical-align: top;\n",
       "    }\n",
       "\n",
       "    .dataframe thead th {\n",
       "        text-align: right;\n",
       "    }\n",
       "</style>\n",
       "<table border=\"1\" class=\"dataframe\">\n",
       "  <thead>\n",
       "    <tr style=\"text-align: right;\">\n",
       "      <th></th>\n",
       "      <th>Title</th>\n",
       "      <th>Certificate</th>\n",
       "      <th>Rating</th>\n",
       "      <th>Metascore</th>\n",
       "    </tr>\n",
       "  </thead>\n",
       "  <tbody>\n",
       "    <tr>\n",
       "      <th>2398</th>\n",
       "      <td>Disaster Movie</td>\n",
       "      <td>PG-13</td>\n",
       "      <td>1.9</td>\n",
       "      <td>15.0</td>\n",
       "    </tr>\n",
       "    <tr>\n",
       "      <th>4806</th>\n",
       "      <td>The Hottie &amp; the Nottie</td>\n",
       "      <td>PG-13</td>\n",
       "      <td>2.0</td>\n",
       "      <td>7.0</td>\n",
       "    </tr>\n",
       "    <tr>\n",
       "      <th>3480</th>\n",
       "      <td>Son of the Mask</td>\n",
       "      <td>U</td>\n",
       "      <td>2.3</td>\n",
       "      <td>20.0</td>\n",
       "    </tr>\n",
       "    <tr>\n",
       "      <th>6178</th>\n",
       "      <td>Alone in the Dark</td>\n",
       "      <td>A</td>\n",
       "      <td>2.4</td>\n",
       "      <td>9.0</td>\n",
       "    </tr>\n",
       "    <tr>\n",
       "      <th>2185</th>\n",
       "      <td>Epic Movie</td>\n",
       "      <td>U</td>\n",
       "      <td>2.4</td>\n",
       "      <td>17.0</td>\n",
       "    </tr>\n",
       "    <tr>\n",
       "      <th>...</th>\n",
       "      <td>...</td>\n",
       "      <td>...</td>\n",
       "      <td>...</td>\n",
       "      <td>...</td>\n",
       "    </tr>\n",
       "    <tr>\n",
       "      <th>266</th>\n",
       "      <td>12 Angry Men</td>\n",
       "      <td>U</td>\n",
       "      <td>9.0</td>\n",
       "      <td>97.0</td>\n",
       "    </tr>\n",
       "    <tr>\n",
       "      <th>94</th>\n",
       "      <td>The Lord of the Rings: The Return of the King</td>\n",
       "      <td>U</td>\n",
       "      <td>9.0</td>\n",
       "      <td>94.0</td>\n",
       "    </tr>\n",
       "    <tr>\n",
       "      <th>100</th>\n",
       "      <td>Schindler's List</td>\n",
       "      <td>A</td>\n",
       "      <td>9.0</td>\n",
       "      <td>95.0</td>\n",
       "    </tr>\n",
       "    <tr>\n",
       "      <th>43</th>\n",
       "      <td>The Godfather</td>\n",
       "      <td>A</td>\n",
       "      <td>9.2</td>\n",
       "      <td>100.0</td>\n",
       "    </tr>\n",
       "    <tr>\n",
       "      <th>56</th>\n",
       "      <td>The Shawshank Redemption</td>\n",
       "      <td>A</td>\n",
       "      <td>9.3</td>\n",
       "      <td>82.0</td>\n",
       "    </tr>\n",
       "  </tbody>\n",
       "</table>\n",
       "<p>6404 rows × 4 columns</p>\n",
       "</div>"
      ],
      "text/plain": [
       "                                              Title Certificate  Rating  \\\n",
       "2398                                 Disaster Movie       PG-13     1.9   \n",
       "4806                        The Hottie & the Nottie       PG-13     2.0   \n",
       "3480                                Son of the Mask           U     2.3   \n",
       "6178                              Alone in the Dark           A     2.4   \n",
       "2185                                     Epic Movie           U     2.4   \n",
       "...                                             ...         ...     ...   \n",
       "266                                    12 Angry Men           U     9.0   \n",
       "94    The Lord of the Rings: The Return of the King           U     9.0   \n",
       "100                                Schindler's List           A     9.0   \n",
       "43                                    The Godfather           A     9.2   \n",
       "56                         The Shawshank Redemption           A     9.3   \n",
       "\n",
       "      Metascore  \n",
       "2398       15.0  \n",
       "4806        7.0  \n",
       "3480       20.0  \n",
       "6178        9.0  \n",
       "2185       17.0  \n",
       "...         ...  \n",
       "266        97.0  \n",
       "94         94.0  \n",
       "100        95.0  \n",
       "43        100.0  \n",
       "56         82.0  \n",
       "\n",
       "[6404 rows x 4 columns]"
      ]
     },
     "execution_count": 5,
     "metadata": {},
     "output_type": "execute_result"
    }
   ],
   "source": [
    "rating_df = clean_data_df[['Title', 'Certificate', 'Rating', 'Metascore']]\n",
    "sorted_rating_df = rating_df.sort_values('Rating')\n",
    "sorted_rating_df"
   ]
  },
  {
   "cell_type": "code",
   "execution_count": 7,
   "id": "0a52ba56-c393-4849-a837-3ad16f03a4e8",
   "metadata": {},
   "outputs": [
    {
     "data": {
      "text/html": [
       "<div>\n",
       "<style scoped>\n",
       "    .dataframe tbody tr th:only-of-type {\n",
       "        vertical-align: middle;\n",
       "    }\n",
       "\n",
       "    .dataframe tbody tr th {\n",
       "        vertical-align: top;\n",
       "    }\n",
       "\n",
       "    .dataframe thead th {\n",
       "        text-align: right;\n",
       "    }\n",
       "</style>\n",
       "<table border=\"1\" class=\"dataframe\">\n",
       "  <thead>\n",
       "    <tr style=\"text-align: right;\">\n",
       "      <th></th>\n",
       "      <th>Title</th>\n",
       "      <th>Certificate</th>\n",
       "      <th>Rating</th>\n",
       "      <th>Metascore</th>\n",
       "      <th>ScaledRating</th>\n",
       "    </tr>\n",
       "  </thead>\n",
       "  <tbody>\n",
       "    <tr>\n",
       "      <th>2398</th>\n",
       "      <td>Disaster Movie</td>\n",
       "      <td>PG-13</td>\n",
       "      <td>1.9</td>\n",
       "      <td>15.0</td>\n",
       "      <td>19.0</td>\n",
       "    </tr>\n",
       "    <tr>\n",
       "      <th>4806</th>\n",
       "      <td>The Hottie &amp; the Nottie</td>\n",
       "      <td>PG-13</td>\n",
       "      <td>2.0</td>\n",
       "      <td>7.0</td>\n",
       "      <td>20.0</td>\n",
       "    </tr>\n",
       "    <tr>\n",
       "      <th>3480</th>\n",
       "      <td>Son of the Mask</td>\n",
       "      <td>U</td>\n",
       "      <td>2.3</td>\n",
       "      <td>20.0</td>\n",
       "      <td>23.0</td>\n",
       "    </tr>\n",
       "    <tr>\n",
       "      <th>6178</th>\n",
       "      <td>Alone in the Dark</td>\n",
       "      <td>A</td>\n",
       "      <td>2.4</td>\n",
       "      <td>9.0</td>\n",
       "      <td>24.0</td>\n",
       "    </tr>\n",
       "    <tr>\n",
       "      <th>2185</th>\n",
       "      <td>Epic Movie</td>\n",
       "      <td>U</td>\n",
       "      <td>2.4</td>\n",
       "      <td>17.0</td>\n",
       "      <td>24.0</td>\n",
       "    </tr>\n",
       "    <tr>\n",
       "      <th>...</th>\n",
       "      <td>...</td>\n",
       "      <td>...</td>\n",
       "      <td>...</td>\n",
       "      <td>...</td>\n",
       "      <td>...</td>\n",
       "    </tr>\n",
       "    <tr>\n",
       "      <th>266</th>\n",
       "      <td>12 Angry Men</td>\n",
       "      <td>U</td>\n",
       "      <td>9.0</td>\n",
       "      <td>97.0</td>\n",
       "      <td>90.0</td>\n",
       "    </tr>\n",
       "    <tr>\n",
       "      <th>94</th>\n",
       "      <td>The Lord of the Rings: The Return of the King</td>\n",
       "      <td>U</td>\n",
       "      <td>9.0</td>\n",
       "      <td>94.0</td>\n",
       "      <td>90.0</td>\n",
       "    </tr>\n",
       "    <tr>\n",
       "      <th>100</th>\n",
       "      <td>Schindler's List</td>\n",
       "      <td>A</td>\n",
       "      <td>9.0</td>\n",
       "      <td>95.0</td>\n",
       "      <td>90.0</td>\n",
       "    </tr>\n",
       "    <tr>\n",
       "      <th>43</th>\n",
       "      <td>The Godfather</td>\n",
       "      <td>A</td>\n",
       "      <td>9.2</td>\n",
       "      <td>100.0</td>\n",
       "      <td>92.0</td>\n",
       "    </tr>\n",
       "    <tr>\n",
       "      <th>56</th>\n",
       "      <td>The Shawshank Redemption</td>\n",
       "      <td>A</td>\n",
       "      <td>9.3</td>\n",
       "      <td>82.0</td>\n",
       "      <td>93.0</td>\n",
       "    </tr>\n",
       "  </tbody>\n",
       "</table>\n",
       "<p>6404 rows × 5 columns</p>\n",
       "</div>"
      ],
      "text/plain": [
       "                                              Title Certificate  Rating  \\\n",
       "2398                                 Disaster Movie       PG-13     1.9   \n",
       "4806                        The Hottie & the Nottie       PG-13     2.0   \n",
       "3480                                Son of the Mask           U     2.3   \n",
       "6178                              Alone in the Dark           A     2.4   \n",
       "2185                                     Epic Movie           U     2.4   \n",
       "...                                             ...         ...     ...   \n",
       "266                                    12 Angry Men           U     9.0   \n",
       "94    The Lord of the Rings: The Return of the King           U     9.0   \n",
       "100                                Schindler's List           A     9.0   \n",
       "43                                    The Godfather           A     9.2   \n",
       "56                         The Shawshank Redemption           A     9.3   \n",
       "\n",
       "      Metascore  ScaledRating  \n",
       "2398       15.0          19.0  \n",
       "4806        7.0          20.0  \n",
       "3480       20.0          23.0  \n",
       "6178        9.0          24.0  \n",
       "2185       17.0          24.0  \n",
       "...         ...           ...  \n",
       "266        97.0          90.0  \n",
       "94         94.0          90.0  \n",
       "100        95.0          90.0  \n",
       "43        100.0          92.0  \n",
       "56         82.0          93.0  \n",
       "\n",
       "[6404 rows x 5 columns]"
      ]
     },
     "execution_count": 7,
     "metadata": {},
     "output_type": "execute_result"
    }
   ],
   "source": [
    "sorted_rating_df[\"ScaledRating\"] = sorted_rating_df[\"Rating\"]*10\n",
    "sorted_rating_df"
   ]
  },
  {
   "cell_type": "code",
   "execution_count": 9,
   "id": "4b9acbf1-6724-4167-9295-5f69b92893f2",
   "metadata": {},
   "outputs": [],
   "source": [
    "sorted_rating_df.to_csv(\"./Rating_csvs/All_ratings.csv\", index=False, header=True)"
   ]
  },
  {
   "cell_type": "code",
   "execution_count": 11,
   "id": "d790a8b6-a8f3-41db-b830-f47df6f4b42a",
   "metadata": {},
   "outputs": [
    {
     "data": {
      "text/plain": [
       "array(['PG-13', 'U', 'A', 'R', '18', 'UA', 'PG', 'Not Rated', 'UA 7+',\n",
       "       '18+', '(Banned)', '13', '15+', 'UA 16+', '7', 'NC-17', '16',\n",
       "       '12+', 'G', 'UA 13+', 'All', 'U/A 16+', '12', '16+', 'Unrated',\n",
       "       'GP', 'U/A'], dtype=object)"
      ]
     },
     "execution_count": 11,
     "metadata": {},
     "output_type": "execute_result"
    }
   ],
   "source": [
    "sorted_rating_df['Certificate'].unique()"
   ]
  },
  {
   "cell_type": "code",
   "execution_count": 55,
   "id": "41c8515a-4d7a-4e19-b282-4388f6be493e",
   "metadata": {},
   "outputs": [],
   "source": [
    "only_pg13 = sorted_rating_df.loc[sorted_rating_df[\"Certificate\"] == \"PG-13\", :]\n",
    "only_pg13_df = pd.DataFrame(only_pg13)\n",
    "pg_13_sample = only_pg13_df.sample(n=50)\n",
    "pg_13_sample.to_csv(\"./Rating_csvs/pg13_ratings.csv\", index=False, header=True)"
   ]
  },
  {
   "cell_type": "code",
   "execution_count": null,
   "id": "4dc0ed08-02c5-4024-8de0-86502c5db7c3",
   "metadata": {},
   "outputs": [],
   "source": []
  },
  {
   "cell_type": "code",
   "execution_count": 17,
   "id": "4754d79f-f878-4e75-89dd-46f7d42aa3d3",
   "metadata": {},
   "outputs": [],
   "source": [
    "only_r = sorted_rating_df.loc[sorted_rating_df[\"Certificate\"] == \"R\", :]\n",
    "only_r_df = pd.DataFrame(only_r)\n",
    "r_sample = only_r_df.sample(n=50)\n",
    "r_sample.to_csv(\"./Rating_csvs/r_ratings.csv\", index=False, header=True)"
   ]
  },
  {
   "cell_type": "code",
   "execution_count": 19,
   "id": "89236f2d-3bdd-484e-a822-3565cfe00e71",
   "metadata": {},
   "outputs": [],
   "source": [
    "only_pg = sorted_rating_df.loc[sorted_rating_df[\"Certificate\"] == \"PG\", :]\n",
    "only_pg_df = pd.DataFrame(only_pg)\n",
    "pg_sample = only_pg_df.sample(n=50)\n",
    "pg_sample.to_csv(\"./Rating_csvs/pg_ratings.csv\", index=False, header=True)"
   ]
  },
  {
   "cell_type": "code",
   "execution_count": 37,
   "id": "1648c20f-ed8f-4b1a-94b0-5cf318df91ea",
   "metadata": {},
   "outputs": [],
   "source": [
    "only_g = sorted_rating_df.loc[sorted_rating_df[\"Certificate\"] == \"G\", :]\n",
    "only_g_df = pd.DataFrame(only_g)\n",
    "only_g_df.to_csv(\"./Rating_csvs/g_ratings.csv\", index=False, header=True)"
   ]
  },
  {
   "cell_type": "code",
   "execution_count": 45,
   "id": "b1bc4532-a8b9-4191-8f27-e1b9322ecbd9",
   "metadata": {},
   "outputs": [],
   "source": [
    "only_18_plus = sorted_rating_df.loc[sorted_rating_df[\"Certificate\"] == \"18+\", :]\n",
    "only_18_plus_df = pd.DataFrame(only_18_plus)\n",
    "only_18_plus_df\n",
    "only_18_plus_df.to_csv(\"./Rating_csvs/18plus_ratings.csv\", index=False, header=True)"
   ]
  },
  {
   "cell_type": "code",
   "execution_count": 49,
   "id": "9be5d7c2-8f23-4a8f-afca-440cc8f7faa6",
   "metadata": {},
   "outputs": [],
   "source": [
    "only_U = sorted_rating_df.loc[sorted_rating_df[\"Certificate\"] == \"U\", :]\n",
    "only_U_df = pd.DataFrame(only_U)\n",
    "U_sample = only_U_df.sample(n=50)\n",
    "U_sample.to_csv(\"./Rating_csvs/U_ratings.csv\", index=False, header=True)"
   ]
  },
  {
   "cell_type": "code",
   "execution_count": 53,
   "id": "930d2110-9e5f-4e06-95bb-8b1b30a752b5",
   "metadata": {},
   "outputs": [],
   "source": [
    "only_UA = sorted_rating_df.loc[sorted_rating_df[\"Certificate\"] == \"UA\", :] \n",
    "only_UA_df = pd.DataFrame(only_UA)\n",
    "UA_sample = only_UA_df.sample(n=50)\n",
    "UA_sample.to_csv(\"./Rating_csvs/UA_ratings.csv\", index=False, header=True)"
   ]
  },
  {
   "cell_type": "code",
   "execution_count": null,
   "id": "7a101184-57aa-4867-a4fe-d812a13b171d",
   "metadata": {},
   "outputs": [],
   "source": []
  }
 ],
 "metadata": {
  "kernelspec": {
   "display_name": "Python 3 (ipykernel)",
   "language": "python",
   "name": "python3"
  },
  "language_info": {
   "codemirror_mode": {
    "name": "ipython",
    "version": 3
   },
   "file_extension": ".py",
   "mimetype": "text/x-python",
   "name": "python",
   "nbconvert_exporter": "python",
   "pygments_lexer": "ipython3",
   "version": "3.11.7"
  }
 },
 "nbformat": 4,
 "nbformat_minor": 5
}
