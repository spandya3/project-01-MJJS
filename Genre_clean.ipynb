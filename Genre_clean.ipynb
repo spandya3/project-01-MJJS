{
 "cells": [
  {
   "cell_type": "code",
   "execution_count": 2,
   "id": "df110365-0d2c-4c5f-9717-6f7f027ab817",
   "metadata": {},
   "outputs": [],
   "source": [
    "import matplotlib.pyplot as plt\n",
    "import pandas as pd\n",
    "import numpy as np\n",
    "\n",
    "movie_data = pd.read_csv(\"clean_movie_data.csv\")\n",
    "clean_data_df = pd.DataFrame(movie_data)"
   ]
  },
  {
   "cell_type": "code",
   "execution_count": 6,
   "id": "061b2fd4-179e-44c4-ab7d-b9149ecf2b65",
   "metadata": {},
   "outputs": [],
   "source": [
    "temp_df = clean_data_df['Genre'].str.split(',' , expand=True)"
   ]
  },
  {
   "cell_type": "code",
   "execution_count": 10,
   "id": "629e5e78-0b7f-4243-9723-eb746fc1b39b",
   "metadata": {},
   "outputs": [],
   "source": [
    "temp_df.columns = [\"Genre_1\", \"Genre_2\", \"Genre_3\"]"
   ]
  },
  {
   "cell_type": "code",
   "execution_count": 14,
   "id": "df5a2dff-aca4-4696-ba54-044cd9233f3a",
   "metadata": {},
   "outputs": [],
   "source": [
    "clean_data_df = clean_data_df.join(temp_df)"
   ]
  },
  {
   "cell_type": "code",
   "execution_count": 20,
   "id": "2d48ae86-e0d4-495a-93c0-b3310dde8f79",
   "metadata": {},
   "outputs": [],
   "source": [
    "clean_data_df.drop(columns = [\"Genre\"], inplace = True)"
   ]
  },
  {
   "cell_type": "code",
   "execution_count": 39,
   "id": "6210058b-d72d-4971-8b6b-5e1f1c8d9f74",
   "metadata": {},
   "outputs": [
    {
     "data": {
      "text/plain": [
       "array(['Comedy', 'Action', 'Biography', 'Drama', 'Horror', 'Adventure',\n",
       "       'Crime', 'Animation', 'Fantasy', 'Thriller', 'Mystery', 'Sci-Fi',\n",
       "       'Documentary', 'Music', 'Film-Noir', 'Romance', 'History',\n",
       "       'Family'], dtype=object)"
      ]
     },
     "execution_count": 39,
     "metadata": {},
     "output_type": "execute_result"
    }
   ],
   "source": [
    "clean_data_df['Genre_1'].unique()"
   ]
  },
  {
   "cell_type": "code",
   "execution_count": null,
   "id": "3d666991-d2fb-48d4-b782-35c14983bab3",
   "metadata": {},
   "outputs": [],
   "source": []
  }
 ],
 "metadata": {
  "kernelspec": {
   "display_name": "Python 3 (ipykernel)",
   "language": "python",
   "name": "python3"
  },
  "language_info": {
   "codemirror_mode": {
    "name": "ipython",
    "version": 3
   },
   "file_extension": ".py",
   "mimetype": "text/x-python",
   "name": "python",
   "nbconvert_exporter": "python",
   "pygments_lexer": "ipython3",
   "version": "3.11.7"
  }
 },
 "nbformat": 4,
 "nbformat_minor": 5
}
